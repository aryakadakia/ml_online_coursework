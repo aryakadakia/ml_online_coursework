{
 "cells": [
  {
   "cell_type": "code",
   "execution_count": 4,
   "id": "b731841f-479f-44c9-8cfa-1db897119e14",
   "metadata": {},
   "outputs": [
    {
     "name": "stderr",
     "output_type": "stream",
     "text": [
      "2023-09-10 18:21:42.218328: I tensorflow/core/platform/cpu_feature_guard.cc:182] This TensorFlow binary is optimized to use available CPU instructions in performance-critical operations.\n",
      "To enable the following instructions: AVX2 FMA, in other operations, rebuild TensorFlow with the appropriate compiler flags.\n"
     ]
    }
   ],
   "source": [
    "from datetime import datetime\n",
    "import numpy as np\n",
    "import pandas as pd\n",
    "import matplotlib.pyplot as plt\n",
    "import seaborn as sn\n",
    "from sklearn.model_selection import train_test_split\n",
    "from sklearn.preprocessing import StandardScaler\n",
    "from sklearn.metrics import accuracy_score, precision_score, recall_score\n",
    "import tensorflow as tf\n",
    "from tensorflow import keras\n",
    "from tensorflow.keras import layers"
   ]
  },
  {
   "cell_type": "code",
   "execution_count": 6,
   "id": "3b10b303-4245-4374-afb3-eca2d33dfc27",
   "metadata": {},
   "outputs": [
    {
     "data": {
      "text/html": [
       "<div>\n",
       "<style scoped>\n",
       "    .dataframe tbody tr th:only-of-type {\n",
       "        vertical-align: middle;\n",
       "    }\n",
       "\n",
       "    .dataframe tbody tr th {\n",
       "        vertical-align: top;\n",
       "    }\n",
       "\n",
       "    .dataframe thead th {\n",
       "        text-align: right;\n",
       "    }\n",
       "</style>\n",
       "<table border=\"1\" class=\"dataframe\">\n",
       "  <thead>\n",
       "    <tr style=\"text-align: right;\">\n",
       "      <th></th>\n",
       "      <th>count</th>\n",
       "      <th>mean</th>\n",
       "      <th>std</th>\n",
       "      <th>min</th>\n",
       "      <th>25%</th>\n",
       "      <th>50%</th>\n",
       "      <th>75%</th>\n",
       "      <th>max</th>\n",
       "    </tr>\n",
       "  </thead>\n",
       "  <tbody>\n",
       "    <tr>\n",
       "      <th>age</th>\n",
       "      <td>1025.0</td>\n",
       "      <td>54.434146</td>\n",
       "      <td>9.072290</td>\n",
       "      <td>29.0</td>\n",
       "      <td>48.0</td>\n",
       "      <td>56.0</td>\n",
       "      <td>61.0</td>\n",
       "      <td>77.0</td>\n",
       "    </tr>\n",
       "    <tr>\n",
       "      <th>sex</th>\n",
       "      <td>1025.0</td>\n",
       "      <td>0.695610</td>\n",
       "      <td>0.460373</td>\n",
       "      <td>0.0</td>\n",
       "      <td>0.0</td>\n",
       "      <td>1.0</td>\n",
       "      <td>1.0</td>\n",
       "      <td>1.0</td>\n",
       "    </tr>\n",
       "    <tr>\n",
       "      <th>cp</th>\n",
       "      <td>1025.0</td>\n",
       "      <td>0.942439</td>\n",
       "      <td>1.029641</td>\n",
       "      <td>0.0</td>\n",
       "      <td>0.0</td>\n",
       "      <td>1.0</td>\n",
       "      <td>2.0</td>\n",
       "      <td>3.0</td>\n",
       "    </tr>\n",
       "    <tr>\n",
       "      <th>trestbps</th>\n",
       "      <td>1025.0</td>\n",
       "      <td>131.611707</td>\n",
       "      <td>17.516718</td>\n",
       "      <td>94.0</td>\n",
       "      <td>120.0</td>\n",
       "      <td>130.0</td>\n",
       "      <td>140.0</td>\n",
       "      <td>200.0</td>\n",
       "    </tr>\n",
       "    <tr>\n",
       "      <th>chol</th>\n",
       "      <td>1025.0</td>\n",
       "      <td>246.000000</td>\n",
       "      <td>51.592510</td>\n",
       "      <td>126.0</td>\n",
       "      <td>211.0</td>\n",
       "      <td>240.0</td>\n",
       "      <td>275.0</td>\n",
       "      <td>564.0</td>\n",
       "    </tr>\n",
       "    <tr>\n",
       "      <th>fbs</th>\n",
       "      <td>1025.0</td>\n",
       "      <td>0.149268</td>\n",
       "      <td>0.356527</td>\n",
       "      <td>0.0</td>\n",
       "      <td>0.0</td>\n",
       "      <td>0.0</td>\n",
       "      <td>0.0</td>\n",
       "      <td>1.0</td>\n",
       "    </tr>\n",
       "    <tr>\n",
       "      <th>restecg</th>\n",
       "      <td>1025.0</td>\n",
       "      <td>0.529756</td>\n",
       "      <td>0.527878</td>\n",
       "      <td>0.0</td>\n",
       "      <td>0.0</td>\n",
       "      <td>1.0</td>\n",
       "      <td>1.0</td>\n",
       "      <td>2.0</td>\n",
       "    </tr>\n",
       "    <tr>\n",
       "      <th>thalach</th>\n",
       "      <td>1025.0</td>\n",
       "      <td>149.114146</td>\n",
       "      <td>23.005724</td>\n",
       "      <td>71.0</td>\n",
       "      <td>132.0</td>\n",
       "      <td>152.0</td>\n",
       "      <td>166.0</td>\n",
       "      <td>202.0</td>\n",
       "    </tr>\n",
       "    <tr>\n",
       "      <th>exang</th>\n",
       "      <td>1025.0</td>\n",
       "      <td>0.336585</td>\n",
       "      <td>0.472772</td>\n",
       "      <td>0.0</td>\n",
       "      <td>0.0</td>\n",
       "      <td>0.0</td>\n",
       "      <td>1.0</td>\n",
       "      <td>1.0</td>\n",
       "    </tr>\n",
       "    <tr>\n",
       "      <th>oldpeak</th>\n",
       "      <td>1025.0</td>\n",
       "      <td>1.071512</td>\n",
       "      <td>1.175053</td>\n",
       "      <td>0.0</td>\n",
       "      <td>0.0</td>\n",
       "      <td>0.8</td>\n",
       "      <td>1.8</td>\n",
       "      <td>6.2</td>\n",
       "    </tr>\n",
       "    <tr>\n",
       "      <th>slope</th>\n",
       "      <td>1025.0</td>\n",
       "      <td>1.385366</td>\n",
       "      <td>0.617755</td>\n",
       "      <td>0.0</td>\n",
       "      <td>1.0</td>\n",
       "      <td>1.0</td>\n",
       "      <td>2.0</td>\n",
       "      <td>2.0</td>\n",
       "    </tr>\n",
       "    <tr>\n",
       "      <th>ca</th>\n",
       "      <td>1025.0</td>\n",
       "      <td>0.754146</td>\n",
       "      <td>1.030798</td>\n",
       "      <td>0.0</td>\n",
       "      <td>0.0</td>\n",
       "      <td>0.0</td>\n",
       "      <td>1.0</td>\n",
       "      <td>4.0</td>\n",
       "    </tr>\n",
       "    <tr>\n",
       "      <th>thal</th>\n",
       "      <td>1025.0</td>\n",
       "      <td>2.323902</td>\n",
       "      <td>0.620660</td>\n",
       "      <td>0.0</td>\n",
       "      <td>2.0</td>\n",
       "      <td>2.0</td>\n",
       "      <td>3.0</td>\n",
       "      <td>3.0</td>\n",
       "    </tr>\n",
       "    <tr>\n",
       "      <th>target</th>\n",
       "      <td>1025.0</td>\n",
       "      <td>0.513171</td>\n",
       "      <td>0.500070</td>\n",
       "      <td>0.0</td>\n",
       "      <td>0.0</td>\n",
       "      <td>1.0</td>\n",
       "      <td>1.0</td>\n",
       "      <td>1.0</td>\n",
       "    </tr>\n",
       "  </tbody>\n",
       "</table>\n",
       "</div>"
      ],
      "text/plain": [
       "           count        mean        std    min    25%    50%    75%    max\n",
       "age       1025.0   54.434146   9.072290   29.0   48.0   56.0   61.0   77.0\n",
       "sex       1025.0    0.695610   0.460373    0.0    0.0    1.0    1.0    1.0\n",
       "cp        1025.0    0.942439   1.029641    0.0    0.0    1.0    2.0    3.0\n",
       "trestbps  1025.0  131.611707  17.516718   94.0  120.0  130.0  140.0  200.0\n",
       "chol      1025.0  246.000000  51.592510  126.0  211.0  240.0  275.0  564.0\n",
       "fbs       1025.0    0.149268   0.356527    0.0    0.0    0.0    0.0    1.0\n",
       "restecg   1025.0    0.529756   0.527878    0.0    0.0    1.0    1.0    2.0\n",
       "thalach   1025.0  149.114146  23.005724   71.0  132.0  152.0  166.0  202.0\n",
       "exang     1025.0    0.336585   0.472772    0.0    0.0    0.0    1.0    1.0\n",
       "oldpeak   1025.0    1.071512   1.175053    0.0    0.0    0.8    1.8    6.2\n",
       "slope     1025.0    1.385366   0.617755    0.0    1.0    1.0    2.0    2.0\n",
       "ca        1025.0    0.754146   1.030798    0.0    0.0    0.0    1.0    4.0\n",
       "thal      1025.0    2.323902   0.620660    0.0    2.0    2.0    3.0    3.0\n",
       "target    1025.0    0.513171   0.500070    0.0    0.0    1.0    1.0    1.0"
      ]
     },
     "execution_count": 6,
     "metadata": {},
     "output_type": "execute_result"
    }
   ],
   "source": [
    "df = pd.read_csv('../datasets/heart.csv')\n",
    "df.sample(5)\n",
    "df.describe().T"
   ]
  },
  {
   "cell_type": "code",
   "execution_count": 7,
   "id": "fd9bd8f2-60c9-4471-b826-bf38d77ffb7a",
   "metadata": {},
   "outputs": [],
   "source": [
    "features = df.drop('target', axis=1)\n",
    "target = df[['target']]"
   ]
  },
  {
   "cell_type": "code",
   "execution_count": 9,
   "id": "6010ce3b-f102-4942-868a-14eb1fd91c51",
   "metadata": {},
   "outputs": [],
   "source": [
    "numeric_features = features[['age', 'trestbps', 'chol', 'thalach', 'oldpeak']].copy()\n",
    "categorical_features = features[['sex', 'fbs', 'exang', 'cp', 'ca', 'slope', 'thal', 'restecg']].copy()\n",
    "                                 \n",
    "standardScaler = StandardScaler() # convert to Z score\n",
    "numeric_features = pd.DataFrame(standardScaler.fit_transform(numeric_features),\n",
    "                                columns = numeric_features.columns,\n",
    "                                index = numeric_features.index)"
   ]
  },
  {
   "cell_type": "code",
   "execution_count": 10,
   "id": "1ea220ff-a8d5-46cb-bc16-c4333bfa3e46",
   "metadata": {},
   "outputs": [],
   "source": [
    "processed_features = pd.concat([numeric_features, categorical_features], axis=1,\n",
    "                               sort = False)"
   ]
  },
  {
   "cell_type": "code",
   "execution_count": 11,
   "id": "8f5fe791-37c7-43b5-822d-1ea55b86f77a",
   "metadata": {},
   "outputs": [],
   "source": [
    "x_train, x_test, y_train, y_test = train_test_split(processed_features, target, \n",
    "                                                    test_size=0.2, \n",
    "                                                    random_state=1)"
   ]
  },
  {
   "cell_type": "code",
   "execution_count": 13,
   "id": "274386ae-e90f-4313-8f58-3c29a9f437dc",
   "metadata": {},
   "outputs": [],
   "source": [
    "x_train, x_val, y_train, y_val = train_test_split(x_train, y_train, \n",
    "                                                  test_size = 0.15, random_state=10)"
   ]
  },
  {
   "cell_type": "code",
   "execution_count": 18,
   "id": "3f99ea68-d8d4-4e39-97bf-e07274b45ba9",
   "metadata": {},
   "outputs": [],
   "source": [
    "def build_model():\n",
    "    inputs = tf.keras.Input(shape=(x_train.shape[1],)) # input layer shape is # of features\n",
    "    dense_layer1 = layers.Dense(12, activation = 'relu')\n",
    "    x = dense_layer1(inputs)\n",
    "\n",
    "    dropout_layer = layers.Dropout(0.3) \n",
    "    #mitigate effects of overfitting. Drop off 30% of neurons in first dense layer, forcing other neurons to learn\n",
    "    x = dropout_layer(x)\n",
    "    \n",
    "    dense_layer2 = layers.Dense(8, activation = 'relu')\n",
    "    x = dense_layer2(x)\n",
    "\n",
    "    predictions_layer = layers.Dense(1, activation = 'sigmoid') #output is a probability score\n",
    "    predictions = predictions_layer(x)\n",
    "\n",
    "    model = tf.keras.Model(inputs=inputs, outputs = predictions)\n",
    "    model.summary()\n",
    "\n",
    "    model.compile(optimizer=tf.keras.optimizers.Adam(0.001),\n",
    "                  loss=tf.keras.losses.BinaryCrossentropy(), #loss function for binary classifier\n",
    "                  metrics=['accuracy',\n",
    "                           tf.keras.metrics.Precision(0.5),\n",
    "                           tf.keras.metrics.Recall(0.5),])\n",
    "    return model\n"
   ]
  },
  {
   "cell_type": "code",
   "execution_count": 19,
   "id": "c2a4f33c-5aab-4e2b-ad61-8910106157ac",
   "metadata": {},
   "outputs": [
    {
     "name": "stdout",
     "output_type": "stream",
     "text": [
      "Model: \"model\"\n",
      "_________________________________________________________________\n",
      " Layer (type)                Output Shape              Param #   \n",
      "=================================================================\n",
      " input_2 (InputLayer)        [(None, 13)]              0         \n",
      "                                                                 \n",
      " dense_2 (Dense)             (None, 12)                168       \n",
      "                                                                 \n",
      " dropout_1 (Dropout)         (None, 12)                0         \n",
      "                                                                 \n",
      " dense_3 (Dense)             (None, 8)                 104       \n",
      "                                                                 \n",
      " dense_4 (Dense)             (None, 1)                 9         \n",
      "                                                                 \n",
      "=================================================================\n",
      "Total params: 281 (1.10 KB)\n",
      "Trainable params: 281 (1.10 KB)\n",
      "Non-trainable params: 0 (0.00 Byte)\n",
      "_________________________________________________________________\n"
     ]
    }
   ],
   "source": [
    "model = build_model()"
   ]
  },
  {
   "cell_type": "code",
   "execution_count": 21,
   "id": "c9596e6b-df64-4527-bbb3-4d68adc489a2",
   "metadata": {},
   "outputs": [
    {
     "name": "stdout",
     "output_type": "stream",
     "text": [
      "You must install pydot (`pip install pydot`) and install graphviz (see instructions at https://graphviz.gitlab.io/download/) for plot_model to work.\n"
     ]
    }
   ],
   "source": [
    "keras.utils.plot_model(model, show_shapes=True)"
   ]
  },
  {
   "cell_type": "code",
   "execution_count": 23,
   "id": "d82ff206-ba0f-4c95-bc97-29267d930b8b",
   "metadata": {},
   "outputs": [
    {
     "data": {
      "text/plain": [
       "<_ShuffleDataset element_spec=(TensorSpec(shape=(None, 13), dtype=tf.float64, name=None), TensorSpec(shape=(None, 1), dtype=tf.int64, name=None))>"
      ]
     },
     "execution_count": 23,
     "metadata": {},
     "output_type": "execute_result"
    }
   ],
   "source": [
    "dataset_train = tf.data.Dataset.from_tensor_slices((x_train.values, y_train.values))\n",
    "dataset_train = dataset_train.batch(16)\n",
    "dataset_train.shuffle(128)\n",
    "# convert training data tensors into dataset"
   ]
  },
  {
   "cell_type": "code",
   "execution_count": 24,
   "id": "09c10f46-68dd-465f-a35e-e15ae5f344fc",
   "metadata": {},
   "outputs": [],
   "source": [
    "num_epochs = 100"
   ]
  },
  {
   "cell_type": "code",
   "execution_count": 26,
   "id": "f7d6b12a-d8f5-4480-a12e-8670e9dfe590",
   "metadata": {},
   "outputs": [],
   "source": [
    "dataset_val = tf.data.Dataset.from_tensor_slices((x_val.values, y_val.values))\n",
    "dataset_val = dataset_val.batch(16)"
   ]
  },
  {
   "cell_type": "code",
   "execution_count": 27,
   "id": "f8b378d1-48b2-45ec-9451-33cc4535b08e",
   "metadata": {},
   "outputs": [
    {
     "name": "stdout",
     "output_type": "stream",
     "text": [
      "Model: \"model_1\"\n",
      "_________________________________________________________________\n",
      " Layer (type)                Output Shape              Param #   \n",
      "=================================================================\n",
      " input_3 (InputLayer)        [(None, 13)]              0         \n",
      "                                                                 \n",
      " dense_5 (Dense)             (None, 12)                168       \n",
      "                                                                 \n",
      " dropout_2 (Dropout)         (None, 12)                0         \n",
      "                                                                 \n",
      " dense_6 (Dense)             (None, 8)                 104       \n",
      "                                                                 \n",
      " dense_7 (Dense)             (None, 1)                 9         \n",
      "                                                                 \n",
      "=================================================================\n",
      "Total params: 281 (1.10 KB)\n",
      "Trainable params: 281 (1.10 KB)\n",
      "Non-trainable params: 0 (0.00 Byte)\n",
      "_________________________________________________________________\n",
      "Epoch 1/100\n",
      "37/37 [==============================] - 1s 9ms/step - loss: 1.0903 - accuracy: 0.5253 - precision_1: 0.5239 - recall_1: 0.9610 - val_loss: 0.7917 - val_accuracy: 0.6000 - val_precision_1: 0.5900 - val_recall_1: 0.9833\n",
      "Epoch 2/100\n",
      "37/37 [==============================] - 0s 2ms/step - loss: 0.8842 - accuracy: 0.5270 - precision_1: 0.5277 - recall_1: 0.8669 - val_loss: 0.6927 - val_accuracy: 0.6381 - val_precision_1: 0.6250 - val_recall_1: 0.9167\n",
      "Epoch 3/100\n",
      "37/37 [==============================] - 0s 2ms/step - loss: 0.7474 - accuracy: 0.5490 - precision_1: 0.5437 - recall_1: 0.8279 - val_loss: 0.6390 - val_accuracy: 0.6476 - val_precision_1: 0.6533 - val_recall_1: 0.8167\n",
      "Epoch 4/100\n",
      "37/37 [==============================] - 0s 2ms/step - loss: 0.6818 - accuracy: 0.6199 - precision_1: 0.6015 - recall_1: 0.7987 - val_loss: 0.5975 - val_accuracy: 0.6857 - val_precision_1: 0.7015 - val_recall_1: 0.7833\n",
      "Epoch 5/100\n",
      "37/37 [==============================] - 0s 2ms/step - loss: 0.6565 - accuracy: 0.6098 - precision_1: 0.6066 - recall_1: 0.7110 - val_loss: 0.5645 - val_accuracy: 0.7333 - val_precision_1: 0.7424 - val_recall_1: 0.8167\n",
      "Epoch 6/100\n",
      "37/37 [==============================] - 0s 2ms/step - loss: 0.6006 - accuracy: 0.6875 - precision_1: 0.6713 - recall_1: 0.7825 - val_loss: 0.5369 - val_accuracy: 0.7905 - val_precision_1: 0.7879 - val_recall_1: 0.8667\n",
      "Epoch 7/100\n",
      "37/37 [==============================] - 0s 2ms/step - loss: 0.5679 - accuracy: 0.7213 - precision_1: 0.7187 - recall_1: 0.7630 - val_loss: 0.5128 - val_accuracy: 0.8190 - val_precision_1: 0.8254 - val_recall_1: 0.8667\n",
      "Epoch 8/100\n",
      "37/37 [==============================] - 0s 2ms/step - loss: 0.5485 - accuracy: 0.7095 - precision_1: 0.7125 - recall_1: 0.7403 - val_loss: 0.4929 - val_accuracy: 0.8190 - val_precision_1: 0.8361 - val_recall_1: 0.8500\n",
      "Epoch 9/100\n",
      "37/37 [==============================] - 0s 5ms/step - loss: 0.5492 - accuracy: 0.7196 - precision_1: 0.7178 - recall_1: 0.7597 - val_loss: 0.4766 - val_accuracy: 0.8286 - val_precision_1: 0.8387 - val_recall_1: 0.8667\n",
      "Epoch 10/100\n",
      "37/37 [==============================] - 0s 2ms/step - loss: 0.5394 - accuracy: 0.7213 - precision_1: 0.7284 - recall_1: 0.7403 - val_loss: 0.4628 - val_accuracy: 0.8095 - val_precision_1: 0.8448 - val_recall_1: 0.8167\n",
      "Epoch 11/100\n",
      "37/37 [==============================] - 0s 2ms/step - loss: 0.5087 - accuracy: 0.7618 - precision_1: 0.7702 - recall_1: 0.7727 - val_loss: 0.4481 - val_accuracy: 0.8381 - val_precision_1: 0.8525 - val_recall_1: 0.8667\n",
      "Epoch 12/100\n",
      "37/37 [==============================] - 0s 2ms/step - loss: 0.5037 - accuracy: 0.7551 - precision_1: 0.7621 - recall_1: 0.7695 - val_loss: 0.4369 - val_accuracy: 0.8476 - val_precision_1: 0.8929 - val_recall_1: 0.8333\n",
      "Epoch 13/100\n",
      "37/37 [==============================] - 0s 2ms/step - loss: 0.4895 - accuracy: 0.7703 - precision_1: 0.7829 - recall_1: 0.7727 - val_loss: 0.4277 - val_accuracy: 0.8190 - val_precision_1: 0.8475 - val_recall_1: 0.8333\n",
      "Epoch 14/100\n",
      "37/37 [==============================] - 0s 2ms/step - loss: 0.4803 - accuracy: 0.7720 - precision_1: 0.7695 - recall_1: 0.8019 - val_loss: 0.4232 - val_accuracy: 0.8190 - val_precision_1: 0.8475 - val_recall_1: 0.8333\n",
      "Epoch 15/100\n",
      "37/37 [==============================] - 0s 2ms/step - loss: 0.4751 - accuracy: 0.7889 - precision_1: 0.7886 - recall_1: 0.8117 - val_loss: 0.4182 - val_accuracy: 0.8190 - val_precision_1: 0.8475 - val_recall_1: 0.8333\n",
      "Epoch 16/100\n",
      "37/37 [==============================] - 0s 2ms/step - loss: 0.4672 - accuracy: 0.7922 - precision_1: 0.7918 - recall_1: 0.8149 - val_loss: 0.4091 - val_accuracy: 0.8190 - val_precision_1: 0.8475 - val_recall_1: 0.8333\n",
      "Epoch 17/100\n",
      "37/37 [==============================] - 0s 2ms/step - loss: 0.4634 - accuracy: 0.7720 - precision_1: 0.7764 - recall_1: 0.7890 - val_loss: 0.4014 - val_accuracy: 0.8381 - val_precision_1: 0.8772 - val_recall_1: 0.8333\n",
      "Epoch 18/100\n",
      "37/37 [==============================] - 0s 2ms/step - loss: 0.4649 - accuracy: 0.7703 - precision_1: 0.7739 - recall_1: 0.7890 - val_loss: 0.3932 - val_accuracy: 0.8571 - val_precision_1: 0.8814 - val_recall_1: 0.8667\n",
      "Epoch 19/100\n",
      "37/37 [==============================] - 0s 2ms/step - loss: 0.4547 - accuracy: 0.7770 - precision_1: 0.7785 - recall_1: 0.7987 - val_loss: 0.3923 - val_accuracy: 0.8476 - val_precision_1: 0.8929 - val_recall_1: 0.8333\n",
      "Epoch 20/100\n",
      "37/37 [==============================] - 0s 2ms/step - loss: 0.4519 - accuracy: 0.7889 - precision_1: 0.8060 - recall_1: 0.7825 - val_loss: 0.3911 - val_accuracy: 0.8476 - val_precision_1: 0.8929 - val_recall_1: 0.8333\n",
      "Epoch 21/100\n",
      "37/37 [==============================] - 0s 2ms/step - loss: 0.4560 - accuracy: 0.7804 - precision_1: 0.7908 - recall_1: 0.7857 - val_loss: 0.3864 - val_accuracy: 0.8667 - val_precision_1: 0.8966 - val_recall_1: 0.8667\n",
      "Epoch 22/100\n",
      "37/37 [==============================] - 0s 2ms/step - loss: 0.4202 - accuracy: 0.7973 - precision_1: 0.8113 - recall_1: 0.7955 - val_loss: 0.3762 - val_accuracy: 0.8667 - val_precision_1: 0.8966 - val_recall_1: 0.8667\n",
      "Epoch 23/100\n",
      "37/37 [==============================] - 0s 2ms/step - loss: 0.4229 - accuracy: 0.8091 - precision_1: 0.8095 - recall_1: 0.8279 - val_loss: 0.3696 - val_accuracy: 0.8667 - val_precision_1: 0.8966 - val_recall_1: 0.8667\n",
      "Epoch 24/100\n",
      "37/37 [==============================] - 0s 2ms/step - loss: 0.3949 - accuracy: 0.8243 - precision_1: 0.8228 - recall_1: 0.8442 - val_loss: 0.3638 - val_accuracy: 0.8667 - val_precision_1: 0.8966 - val_recall_1: 0.8667\n",
      "Epoch 25/100\n",
      "37/37 [==============================] - 0s 2ms/step - loss: 0.4323 - accuracy: 0.8041 - precision_1: 0.8179 - recall_1: 0.8019 - val_loss: 0.3610 - val_accuracy: 0.8667 - val_precision_1: 0.8966 - val_recall_1: 0.8667\n",
      "Epoch 26/100\n",
      "37/37 [==============================] - 0s 2ms/step - loss: 0.4121 - accuracy: 0.8108 - precision_1: 0.8161 - recall_1: 0.8214 - val_loss: 0.3611 - val_accuracy: 0.8667 - val_precision_1: 0.8966 - val_recall_1: 0.8667\n",
      "Epoch 27/100\n",
      "37/37 [==============================] - 0s 2ms/step - loss: 0.3991 - accuracy: 0.8226 - precision_1: 0.8222 - recall_1: 0.8409 - val_loss: 0.3566 - val_accuracy: 0.8762 - val_precision_1: 0.9123 - val_recall_1: 0.8667\n",
      "Epoch 28/100\n",
      "37/37 [==============================] - 0s 2ms/step - loss: 0.4117 - accuracy: 0.8142 - precision_1: 0.8173 - recall_1: 0.8279 - val_loss: 0.3560 - val_accuracy: 0.8762 - val_precision_1: 0.9123 - val_recall_1: 0.8667\n",
      "Epoch 29/100\n",
      "37/37 [==============================] - 0s 2ms/step - loss: 0.4112 - accuracy: 0.8209 - precision_1: 0.8156 - recall_1: 0.8474 - val_loss: 0.3557 - val_accuracy: 0.8762 - val_precision_1: 0.9123 - val_recall_1: 0.8667\n",
      "Epoch 30/100\n",
      "37/37 [==============================] - 0s 2ms/step - loss: 0.3999 - accuracy: 0.8345 - precision_1: 0.8281 - recall_1: 0.8604 - val_loss: 0.3536 - val_accuracy: 0.8762 - val_precision_1: 0.9123 - val_recall_1: 0.8667\n",
      "Epoch 31/100\n",
      "37/37 [==============================] - 0s 2ms/step - loss: 0.4019 - accuracy: 0.8311 - precision_1: 0.8399 - recall_1: 0.8344 - val_loss: 0.3530 - val_accuracy: 0.8762 - val_precision_1: 0.9123 - val_recall_1: 0.8667\n",
      "Epoch 32/100\n",
      "37/37 [==============================] - 0s 2ms/step - loss: 0.3884 - accuracy: 0.8243 - precision_1: 0.8129 - recall_1: 0.8604 - val_loss: 0.3479 - val_accuracy: 0.8762 - val_precision_1: 0.9123 - val_recall_1: 0.8667\n",
      "Epoch 33/100\n",
      "37/37 [==============================] - 0s 2ms/step - loss: 0.3889 - accuracy: 0.8328 - precision_1: 0.8215 - recall_1: 0.8669 - val_loss: 0.3449 - val_accuracy: 0.8762 - val_precision_1: 0.9123 - val_recall_1: 0.8667\n",
      "Epoch 34/100\n",
      "37/37 [==============================] - 0s 2ms/step - loss: 0.3703 - accuracy: 0.8429 - precision_1: 0.8435 - recall_1: 0.8571 - val_loss: 0.3412 - val_accuracy: 0.8762 - val_precision_1: 0.9123 - val_recall_1: 0.8667\n",
      "Epoch 35/100\n",
      "37/37 [==============================] - 0s 2ms/step - loss: 0.3890 - accuracy: 0.8294 - precision_1: 0.8090 - recall_1: 0.8799 - val_loss: 0.3404 - val_accuracy: 0.8762 - val_precision_1: 0.9123 - val_recall_1: 0.8667\n",
      "Epoch 36/100\n",
      "37/37 [==============================] - 0s 2ms/step - loss: 0.3683 - accuracy: 0.8395 - precision_1: 0.8257 - recall_1: 0.8766 - val_loss: 0.3396 - val_accuracy: 0.8762 - val_precision_1: 0.9123 - val_recall_1: 0.8667\n",
      "Epoch 37/100\n",
      "37/37 [==============================] - 0s 2ms/step - loss: 0.3686 - accuracy: 0.8378 - precision_1: 0.8252 - recall_1: 0.8734 - val_loss: 0.3370 - val_accuracy: 0.8762 - val_precision_1: 0.9123 - val_recall_1: 0.8667\n",
      "Epoch 38/100\n",
      "37/37 [==============================] - 0s 2ms/step - loss: 0.3944 - accuracy: 0.8328 - precision_1: 0.8065 - recall_1: 0.8929 - val_loss: 0.3396 - val_accuracy: 0.8571 - val_precision_1: 0.8814 - val_recall_1: 0.8667\n",
      "Epoch 39/100\n",
      "37/37 [==============================] - 0s 2ms/step - loss: 0.3840 - accuracy: 0.8412 - precision_1: 0.8282 - recall_1: 0.8766 - val_loss: 0.3372 - val_accuracy: 0.8571 - val_precision_1: 0.8814 - val_recall_1: 0.8667\n",
      "Epoch 40/100\n",
      "37/37 [==============================] - 0s 2ms/step - loss: 0.3588 - accuracy: 0.8395 - precision_1: 0.8277 - recall_1: 0.8734 - val_loss: 0.3368 - val_accuracy: 0.8571 - val_precision_1: 0.8814 - val_recall_1: 0.8667\n",
      "Epoch 41/100\n",
      "37/37 [==============================] - 0s 2ms/step - loss: 0.3636 - accuracy: 0.8361 - precision_1: 0.8246 - recall_1: 0.8701 - val_loss: 0.3329 - val_accuracy: 0.8857 - val_precision_1: 0.9138 - val_recall_1: 0.8833\n",
      "Epoch 42/100\n",
      "37/37 [==============================] - 0s 2ms/step - loss: 0.3660 - accuracy: 0.8497 - precision_1: 0.8308 - recall_1: 0.8929 - val_loss: 0.3316 - val_accuracy: 0.8857 - val_precision_1: 0.9138 - val_recall_1: 0.8833\n",
      "Epoch 43/100\n",
      "37/37 [==============================] - 0s 2ms/step - loss: 0.3737 - accuracy: 0.8328 - precision_1: 0.8235 - recall_1: 0.8636 - val_loss: 0.3280 - val_accuracy: 0.8857 - val_precision_1: 0.9138 - val_recall_1: 0.8833\n",
      "Epoch 44/100\n",
      "37/37 [==============================] - 0s 2ms/step - loss: 0.3628 - accuracy: 0.8429 - precision_1: 0.8228 - recall_1: 0.8896 - val_loss: 0.3270 - val_accuracy: 0.8667 - val_precision_1: 0.8833 - val_recall_1: 0.8833\n",
      "Epoch 45/100\n",
      "37/37 [==============================] - 0s 2ms/step - loss: 0.3414 - accuracy: 0.8497 - precision_1: 0.8308 - recall_1: 0.8929 - val_loss: 0.3287 - val_accuracy: 0.8571 - val_precision_1: 0.8814 - val_recall_1: 0.8667\n",
      "Epoch 46/100\n",
      "37/37 [==============================] - 0s 2ms/step - loss: 0.3574 - accuracy: 0.8530 - precision_1: 0.8338 - recall_1: 0.8961 - val_loss: 0.3299 - val_accuracy: 0.8571 - val_precision_1: 0.8814 - val_recall_1: 0.8667\n",
      "Epoch 47/100\n",
      "37/37 [==============================] - 0s 2ms/step - loss: 0.3589 - accuracy: 0.8429 - precision_1: 0.8287 - recall_1: 0.8799 - val_loss: 0.3256 - val_accuracy: 0.8667 - val_precision_1: 0.8833 - val_recall_1: 0.8833\n",
      "Epoch 48/100\n",
      "37/37 [==============================] - 0s 2ms/step - loss: 0.3620 - accuracy: 0.8361 - precision_1: 0.8168 - recall_1: 0.8831 - val_loss: 0.3241 - val_accuracy: 0.8667 - val_precision_1: 0.8833 - val_recall_1: 0.8833\n",
      "Epoch 49/100\n",
      "37/37 [==============================] - 0s 2ms/step - loss: 0.3407 - accuracy: 0.8581 - precision_1: 0.8457 - recall_1: 0.8896 - val_loss: 0.3236 - val_accuracy: 0.8667 - val_precision_1: 0.8833 - val_recall_1: 0.8833\n",
      "Epoch 50/100\n",
      "37/37 [==============================] - 0s 2ms/step - loss: 0.3668 - accuracy: 0.8345 - precision_1: 0.8221 - recall_1: 0.8701 - val_loss: 0.3275 - val_accuracy: 0.8667 - val_precision_1: 0.8833 - val_recall_1: 0.8833\n",
      "Epoch 51/100\n",
      "37/37 [==============================] - 0s 2ms/step - loss: 0.3543 - accuracy: 0.8497 - precision_1: 0.8328 - recall_1: 0.8896 - val_loss: 0.3265 - val_accuracy: 0.8667 - val_precision_1: 0.8833 - val_recall_1: 0.8833\n",
      "Epoch 52/100\n",
      "37/37 [==============================] - 0s 2ms/step - loss: 0.3454 - accuracy: 0.8480 - precision_1: 0.8283 - recall_1: 0.8929 - val_loss: 0.3219 - val_accuracy: 0.8857 - val_precision_1: 0.8871 - val_recall_1: 0.9167\n",
      "Epoch 53/100\n",
      "37/37 [==============================] - 0s 2ms/step - loss: 0.3445 - accuracy: 0.8598 - precision_1: 0.8462 - recall_1: 0.8929 - val_loss: 0.3219 - val_accuracy: 0.8857 - val_precision_1: 0.8871 - val_recall_1: 0.9167\n",
      "Epoch 54/100\n",
      "37/37 [==============================] - 0s 2ms/step - loss: 0.3397 - accuracy: 0.8480 - precision_1: 0.8303 - recall_1: 0.8896 - val_loss: 0.3215 - val_accuracy: 0.8667 - val_precision_1: 0.8833 - val_recall_1: 0.8833\n",
      "Epoch 55/100\n",
      "37/37 [==============================] - 0s 2ms/step - loss: 0.3606 - accuracy: 0.8514 - precision_1: 0.8313 - recall_1: 0.8961 - val_loss: 0.3199 - val_accuracy: 0.8857 - val_precision_1: 0.8750 - val_recall_1: 0.9333\n",
      "Epoch 56/100\n",
      "37/37 [==============================] - 0s 2ms/step - loss: 0.3340 - accuracy: 0.8530 - precision_1: 0.8260 - recall_1: 0.9091 - val_loss: 0.3159 - val_accuracy: 0.8857 - val_precision_1: 0.8750 - val_recall_1: 0.9333\n",
      "Epoch 57/100\n",
      "37/37 [==============================] - 0s 2ms/step - loss: 0.3303 - accuracy: 0.8564 - precision_1: 0.8369 - recall_1: 0.8994 - val_loss: 0.3169 - val_accuracy: 0.9048 - val_precision_1: 0.9167 - val_recall_1: 0.9167\n",
      "Epoch 58/100\n",
      "37/37 [==============================] - 0s 2ms/step - loss: 0.3516 - accuracy: 0.8514 - precision_1: 0.8313 - recall_1: 0.8961 - val_loss: 0.3186 - val_accuracy: 0.8857 - val_precision_1: 0.8871 - val_recall_1: 0.9167\n",
      "Epoch 59/100\n",
      "37/37 [==============================] - 0s 2ms/step - loss: 0.3260 - accuracy: 0.8547 - precision_1: 0.8343 - recall_1: 0.8994 - val_loss: 0.3179 - val_accuracy: 0.8857 - val_precision_1: 0.8871 - val_recall_1: 0.9167\n",
      "Epoch 60/100\n",
      "37/37 [==============================] - 0s 2ms/step - loss: 0.3353 - accuracy: 0.8463 - precision_1: 0.8163 - recall_1: 0.9091 - val_loss: 0.3148 - val_accuracy: 0.8857 - val_precision_1: 0.8750 - val_recall_1: 0.9333\n",
      "Epoch 61/100\n",
      "37/37 [==============================] - 0s 2ms/step - loss: 0.3493 - accuracy: 0.8547 - precision_1: 0.8384 - recall_1: 0.8929 - val_loss: 0.3194 - val_accuracy: 0.8667 - val_precision_1: 0.8710 - val_recall_1: 0.9000\n",
      "Epoch 62/100\n",
      "37/37 [==============================] - 0s 6ms/step - loss: 0.3441 - accuracy: 0.8649 - precision_1: 0.8434 - recall_1: 0.9091 - val_loss: 0.3166 - val_accuracy: 0.8857 - val_precision_1: 0.8750 - val_recall_1: 0.9333\n",
      "Epoch 63/100\n",
      "37/37 [==============================] - 0s 2ms/step - loss: 0.3245 - accuracy: 0.8514 - precision_1: 0.8374 - recall_1: 0.8864 - val_loss: 0.3155 - val_accuracy: 0.8857 - val_precision_1: 0.8750 - val_recall_1: 0.9333\n",
      "Epoch 64/100\n",
      "37/37 [==============================] - 0s 2ms/step - loss: 0.3128 - accuracy: 0.8750 - precision_1: 0.8611 - recall_1: 0.9058 - val_loss: 0.3124 - val_accuracy: 0.8857 - val_precision_1: 0.8750 - val_recall_1: 0.9333\n",
      "Epoch 65/100\n",
      "37/37 [==============================] - 0s 2ms/step - loss: 0.3325 - accuracy: 0.8615 - precision_1: 0.8404 - recall_1: 0.9058 - val_loss: 0.3150 - val_accuracy: 0.8857 - val_precision_1: 0.8750 - val_recall_1: 0.9333\n",
      "Epoch 66/100\n",
      "37/37 [==============================] - 0s 2ms/step - loss: 0.3433 - accuracy: 0.8581 - precision_1: 0.8500 - recall_1: 0.8831 - val_loss: 0.3147 - val_accuracy: 0.8857 - val_precision_1: 0.8750 - val_recall_1: 0.9333\n",
      "Epoch 67/100\n",
      "37/37 [==============================] - 0s 2ms/step - loss: 0.3343 - accuracy: 0.8514 - precision_1: 0.8333 - recall_1: 0.8929 - val_loss: 0.3107 - val_accuracy: 0.8857 - val_precision_1: 0.8750 - val_recall_1: 0.9333\n",
      "Epoch 68/100\n",
      "37/37 [==============================] - 0s 2ms/step - loss: 0.3141 - accuracy: 0.8750 - precision_1: 0.8589 - recall_1: 0.9091 - val_loss: 0.3099 - val_accuracy: 0.8857 - val_precision_1: 0.8750 - val_recall_1: 0.9333\n",
      "Epoch 69/100\n",
      "37/37 [==============================] - 0s 2ms/step - loss: 0.3187 - accuracy: 0.8615 - precision_1: 0.8553 - recall_1: 0.8831 - val_loss: 0.3088 - val_accuracy: 0.8857 - val_precision_1: 0.8750 - val_recall_1: 0.9333\n",
      "Epoch 70/100\n",
      "37/37 [==============================] - 0s 2ms/step - loss: 0.3328 - accuracy: 0.8632 - precision_1: 0.8580 - recall_1: 0.8831 - val_loss: 0.3065 - val_accuracy: 0.8857 - val_precision_1: 0.8750 - val_recall_1: 0.9333\n",
      "Epoch 71/100\n",
      "37/37 [==============================] - 0s 2ms/step - loss: 0.3140 - accuracy: 0.8699 - precision_1: 0.8576 - recall_1: 0.8994 - val_loss: 0.3085 - val_accuracy: 0.8667 - val_precision_1: 0.8710 - val_recall_1: 0.9000\n",
      "Epoch 72/100\n",
      "37/37 [==============================] - 0s 2ms/step - loss: 0.3229 - accuracy: 0.8564 - precision_1: 0.8495 - recall_1: 0.8799 - val_loss: 0.3138 - val_accuracy: 0.8667 - val_precision_1: 0.8710 - val_recall_1: 0.9000\n",
      "Epoch 73/100\n",
      "37/37 [==============================] - 0s 2ms/step - loss: 0.3099 - accuracy: 0.8514 - precision_1: 0.8503 - recall_1: 0.8669 - val_loss: 0.3087 - val_accuracy: 0.8667 - val_precision_1: 0.8710 - val_recall_1: 0.9000\n",
      "Epoch 74/100\n",
      "37/37 [==============================] - 0s 2ms/step - loss: 0.3158 - accuracy: 0.8716 - precision_1: 0.8537 - recall_1: 0.9091 - val_loss: 0.3059 - val_accuracy: 0.8857 - val_precision_1: 0.8750 - val_recall_1: 0.9333\n",
      "Epoch 75/100\n",
      "37/37 [==============================] - 0s 2ms/step - loss: 0.3185 - accuracy: 0.8615 - precision_1: 0.8531 - recall_1: 0.8864 - val_loss: 0.3038 - val_accuracy: 0.8857 - val_precision_1: 0.8750 - val_recall_1: 0.9333\n",
      "Epoch 76/100\n",
      "37/37 [==============================] - 0s 2ms/step - loss: 0.3446 - accuracy: 0.8463 - precision_1: 0.8298 - recall_1: 0.8864 - val_loss: 0.3064 - val_accuracy: 0.8762 - val_precision_1: 0.8852 - val_recall_1: 0.9000\n",
      "Epoch 77/100\n",
      "37/37 [==============================] - 0s 2ms/step - loss: 0.3208 - accuracy: 0.8564 - precision_1: 0.8632 - recall_1: 0.8604 - val_loss: 0.3030 - val_accuracy: 0.8667 - val_precision_1: 0.8710 - val_recall_1: 0.9000\n",
      "Epoch 78/100\n",
      "37/37 [==============================] - 0s 2ms/step - loss: 0.3177 - accuracy: 0.8598 - precision_1: 0.8594 - recall_1: 0.8734 - val_loss: 0.3008 - val_accuracy: 0.8857 - val_precision_1: 0.8750 - val_recall_1: 0.9333\n",
      "Epoch 79/100\n",
      "37/37 [==============================] - 0s 2ms/step - loss: 0.2994 - accuracy: 0.8649 - precision_1: 0.8540 - recall_1: 0.8929 - val_loss: 0.2979 - val_accuracy: 0.8857 - val_precision_1: 0.8750 - val_recall_1: 0.9333\n",
      "Epoch 80/100\n",
      "37/37 [==============================] - 0s 2ms/step - loss: 0.3257 - accuracy: 0.8581 - precision_1: 0.8522 - recall_1: 0.8799 - val_loss: 0.2994 - val_accuracy: 0.8667 - val_precision_1: 0.8710 - val_recall_1: 0.9000\n",
      "Epoch 81/100\n",
      "37/37 [==============================] - 0s 2ms/step - loss: 0.3053 - accuracy: 0.8666 - precision_1: 0.8658 - recall_1: 0.8799 - val_loss: 0.2984 - val_accuracy: 0.8762 - val_precision_1: 0.8852 - val_recall_1: 0.9000\n",
      "Epoch 82/100\n",
      "37/37 [==============================] - 0s 2ms/step - loss: 0.3278 - accuracy: 0.8564 - precision_1: 0.8585 - recall_1: 0.8669 - val_loss: 0.3005 - val_accuracy: 0.8857 - val_precision_1: 0.8871 - val_recall_1: 0.9167\n",
      "Epoch 83/100\n",
      "37/37 [==============================] - 0s 2ms/step - loss: 0.3179 - accuracy: 0.8699 - precision_1: 0.8621 - recall_1: 0.8929 - val_loss: 0.2997 - val_accuracy: 0.8857 - val_precision_1: 0.8871 - val_recall_1: 0.9167\n",
      "Epoch 84/100\n",
      "37/37 [==============================] - 0s 3ms/step - loss: 0.3129 - accuracy: 0.8750 - precision_1: 0.8750 - recall_1: 0.8864 - val_loss: 0.2967 - val_accuracy: 0.8857 - val_precision_1: 0.8871 - val_recall_1: 0.9167\n",
      "Epoch 85/100\n",
      "37/37 [==============================] - 0s 2ms/step - loss: 0.3183 - accuracy: 0.8666 - precision_1: 0.8706 - recall_1: 0.8734 - val_loss: 0.2919 - val_accuracy: 0.8762 - val_precision_1: 0.8730 - val_recall_1: 0.9167\n",
      "Epoch 86/100\n",
      "37/37 [==============================] - 0s 2ms/step - loss: 0.3244 - accuracy: 0.8598 - precision_1: 0.8527 - recall_1: 0.8831 - val_loss: 0.2894 - val_accuracy: 0.8762 - val_precision_1: 0.8730 - val_recall_1: 0.9167\n",
      "Epoch 87/100\n",
      "37/37 [==============================] - 0s 2ms/step - loss: 0.3060 - accuracy: 0.8615 - precision_1: 0.8599 - recall_1: 0.8766 - val_loss: 0.2897 - val_accuracy: 0.8857 - val_precision_1: 0.9000 - val_recall_1: 0.9000\n",
      "Epoch 88/100\n",
      "37/37 [==============================] - 0s 2ms/step - loss: 0.3050 - accuracy: 0.8666 - precision_1: 0.8706 - recall_1: 0.8734 - val_loss: 0.2871 - val_accuracy: 0.8762 - val_precision_1: 0.8852 - val_recall_1: 0.9000\n",
      "Epoch 89/100\n",
      "37/37 [==============================] - 0s 2ms/step - loss: 0.2945 - accuracy: 0.8818 - precision_1: 0.8766 - recall_1: 0.8994 - val_loss: 0.2878 - val_accuracy: 0.8857 - val_precision_1: 0.9000 - val_recall_1: 0.9000\n",
      "Epoch 90/100\n",
      "37/37 [==============================] - 0s 2ms/step - loss: 0.3075 - accuracy: 0.8666 - precision_1: 0.8635 - recall_1: 0.8831 - val_loss: 0.2862 - val_accuracy: 0.8857 - val_precision_1: 0.9000 - val_recall_1: 0.9000\n",
      "Epoch 91/100\n",
      "37/37 [==============================] - 0s 2ms/step - loss: 0.3117 - accuracy: 0.8649 - precision_1: 0.8497 - recall_1: 0.8994 - val_loss: 0.2850 - val_accuracy: 0.9048 - val_precision_1: 0.9310 - val_recall_1: 0.9000\n",
      "Epoch 92/100\n",
      "37/37 [==============================] - 0s 2ms/step - loss: 0.3139 - accuracy: 0.8615 - precision_1: 0.8509 - recall_1: 0.8896 - val_loss: 0.2836 - val_accuracy: 0.8762 - val_precision_1: 0.8852 - val_recall_1: 0.9000\n",
      "Epoch 93/100\n",
      "37/37 [==============================] - 0s 2ms/step - loss: 0.2784 - accuracy: 0.8767 - precision_1: 0.8803 - recall_1: 0.8831 - val_loss: 0.2830 - val_accuracy: 0.9048 - val_precision_1: 0.9310 - val_recall_1: 0.9000\n",
      "Epoch 94/100\n",
      "37/37 [==============================] - 0s 2ms/step - loss: 0.3077 - accuracy: 0.8666 - precision_1: 0.8502 - recall_1: 0.9026 - val_loss: 0.2825 - val_accuracy: 0.9143 - val_precision_1: 0.9474 - val_recall_1: 0.9000\n",
      "Epoch 95/100\n",
      "37/37 [==============================] - 0s 2ms/step - loss: 0.2886 - accuracy: 0.8716 - precision_1: 0.8580 - recall_1: 0.9026 - val_loss: 0.2853 - val_accuracy: 0.9048 - val_precision_1: 0.9310 - val_recall_1: 0.9000\n",
      "Epoch 96/100\n",
      "37/37 [==============================] - 0s 2ms/step - loss: 0.3022 - accuracy: 0.8818 - precision_1: 0.8790 - recall_1: 0.8961 - val_loss: 0.2840 - val_accuracy: 0.9048 - val_precision_1: 0.9310 - val_recall_1: 0.9000\n",
      "Epoch 97/100\n",
      "37/37 [==============================] - 0s 2ms/step - loss: 0.3169 - accuracy: 0.8699 - precision_1: 0.8690 - recall_1: 0.8831 - val_loss: 0.2856 - val_accuracy: 0.9048 - val_precision_1: 0.9310 - val_recall_1: 0.9000\n",
      "Epoch 98/100\n",
      "37/37 [==============================] - 0s 2ms/step - loss: 0.2950 - accuracy: 0.8666 - precision_1: 0.8612 - recall_1: 0.8864 - val_loss: 0.2810 - val_accuracy: 0.8952 - val_precision_1: 0.9153 - val_recall_1: 0.9000\n",
      "Epoch 99/100\n",
      "37/37 [==============================] - 0s 2ms/step - loss: 0.3043 - accuracy: 0.8666 - precision_1: 0.8635 - recall_1: 0.8831 - val_loss: 0.2828 - val_accuracy: 0.9048 - val_precision_1: 0.9310 - val_recall_1: 0.9000\n",
      "Epoch 100/100\n",
      "37/37 [==============================] - 0s 2ms/step - loss: 0.2909 - accuracy: 0.8851 - precision_1: 0.8822 - recall_1: 0.8994 - val_loss: 0.2810 - val_accuracy: 0.8857 - val_precision_1: 0.9000 - val_recall_1: 0.9000\n"
     ]
    }
   ],
   "source": [
    "model = build_model()\n",
    "training_history = model.fit(dataset_train, epochs = num_epochs, validation_data = dataset_val)"
   ]
  },
  {
   "cell_type": "code",
   "execution_count": 28,
   "id": "cede8c26-bc51-48cb-93e0-3a01fbfcb6ab",
   "metadata": {},
   "outputs": [
    {
     "data": {
      "text/plain": [
       "dict_keys(['loss', 'accuracy', 'precision_1', 'recall_1', 'val_loss', 'val_accuracy', 'val_precision_1', 'val_recall_1'])"
      ]
     },
     "execution_count": 28,
     "metadata": {},
     "output_type": "execute_result"
    }
   ],
   "source": [
    "training_history.history.keys()"
   ]
  },
  {
   "cell_type": "code",
   "execution_count": 30,
   "id": "e40c1aeb-1053-4609-acf2-ae188b83fa7a",
   "metadata": {},
   "outputs": [
    {
     "data": {
      "text/plain": [
       "<matplotlib.legend.Legend at 0x140933b90>"
      ]
     },
     "execution_count": 30,
     "metadata": {},
     "output_type": "execute_result"
    },
    {
     "data": {
      "image/png": "[encoded data removed]",
      "text/plain": [
       "<Figure size 1400x800 with 2 Axes>"
      ]
     },
     "metadata": {},
     "output_type": "display_data"
    }
   ],
   "source": [
    "train_acc = training_history.history['accuracy']\n",
    "train_loss = training_history.history['loss']\n",
    "precision = training_history.history['precision_1']\n",
    "recall = training_history.history['recall_1']\n",
    "\n",
    "epochs_range = range(num_epochs)\n",
    "\n",
    "plt.figure(figsize=(14,8))\n",
    "plt.subplot(1, 2, 1)\n",
    "\n",
    "plt.plot(epochs_range, train_acc, label = 'Training Accuracy')\n",
    "plt.plot(epochs_range, train_loss, label = 'Training Loss')\n",
    "plt.title('Accuracy and Loss')\n",
    "plt.legend()\n",
    "\n",
    "plt.subplot(1, 2, 2)\n",
    "\n",
    "plt.plot(epochs_range, precision, label = 'Precision')\n",
    "plt.plot(epochs_range, recall, label = 'Recall')\n",
    "plt.title('Precision and Recall')\n",
    "plt.legend()"
   ]
  },
  {
   "cell_type": "code",
   "execution_count": 32,
   "id": "45778385-9c76-4302-b7b8-7c6aad42ef75",
   "metadata": {},
   "outputs": [
    {
     "name": "stdout",
     "output_type": "stream",
     "text": [
      "7/7 [==============================] - 0s 3ms/step - loss: 0.2930 - accuracy: 0.8585 - precision_1: 0.8018 - recall_1: 0.9271\n"
     ]
    },
    {
     "data": {
      "text/plain": [
       "loss           0.292959\n",
       "accuracy       0.858537\n",
       "precision_1    0.801802\n",
       "recall_1       0.927083\n",
       "dtype: float64"
      ]
     },
     "execution_count": 32,
     "metadata": {},
     "output_type": "execute_result"
    }
   ],
   "source": [
    "score = model.evaluate(x_test, y_test)\n",
    "score_df = pd.Series(score, index=model.metrics_names)\n",
    "score_df"
   ]
  },
  {
   "cell_type": "code",
   "execution_count": 34,
   "id": "75b7a908-b57c-4878-bd85-74a4040a9a0c",
   "metadata": {},
   "outputs": [
    {
     "name": "stdout",
     "output_type": "stream",
     "text": [
      "7/7 [==============================] - 0s 2ms/step\n"
     ]
    },
    {
     "data": {
      "text/plain": [
       "array([[0.01795732],\n",
       "       [0.94220257],\n",
       "       [0.9772265 ],\n",
       "       [0.689361  ],\n",
       "       [0.00639217],\n",
       "       [0.82323843],\n",
       "       [0.759781  ],\n",
       "       [0.9245505 ],\n",
       "       [0.75109124],\n",
       "       [0.75489813]], dtype=float32)"
      ]
     },
     "execution_count": 34,
     "metadata": {},
     "output_type": "execute_result"
    }
   ],
   "source": [
    "y_pred = model.predict(x_test)\n",
    "y_pred[:10] # series of probability scores that patient has heart disease"
   ]
  },
  {
   "cell_type": "code",
   "execution_count": 36,
   "id": "dae9e1f8-5dcb-41f6-a71e-b5081a533fa2",
   "metadata": {},
   "outputs": [
    {
     "data": {
      "text/plain": [
       "array([[0.],\n",
       "       [1.],\n",
       "       [1.],\n",
       "       [1.],\n",
       "       [0.],\n",
       "       [1.],\n",
       "       [1.],\n",
       "       [1.],\n",
       "       [1.],\n",
       "       [1.]], dtype=float32)"
      ]
     },
     "execution_count": 36,
     "metadata": {},
     "output_type": "execute_result"
    }
   ],
   "source": [
    "# apply threshold to probability scors to get actual predicitons\n",
    "y_pred = np.where(y_pred>=0.5, 1, y_pred)\n",
    "y_pred = np.where(y_pred<0.5, 0, y_pred)\n",
    "y_pred[:10]"
   ]
  },
  {
   "cell_type": "code",
   "execution_count": 38,
   "id": "a3f19874-5c25-4082-900e-e79b334e9912",
   "metadata": {},
   "outputs": [],
   "source": [
    "pred_results = pd.DataFrame({'y_test': y_test.values.flatten(),\n",
    "                           'y_pred': y_pred.flatten().astype('int32') }, index = range(len(y_pred)))"
   ]
  },
  {
   "cell_type": "code",
   "execution_count": 39,
   "id": "f9328db1-cd2e-4174-be30-7aaf80e750b5",
   "metadata": {},
   "outputs": [
    {
     "data": {
      "text/html": [
       "<div>\n",
       "<style scoped>\n",
       "    .dataframe tbody tr th:only-of-type {\n",
       "        vertical-align: middle;\n",
       "    }\n",
       "\n",
       "    .dataframe tbody tr th {\n",
       "        vertical-align: top;\n",
       "    }\n",
       "\n",
       "    .dataframe thead th {\n",
       "        text-align: right;\n",
       "    }\n",
       "</style>\n",
       "<table border=\"1\" class=\"dataframe\">\n",
       "  <thead>\n",
       "    <tr style=\"text-align: right;\">\n",
       "      <th>y_test</th>\n",
       "      <th>0</th>\n",
       "      <th>1</th>\n",
       "    </tr>\n",
       "    <tr>\n",
       "      <th>y_pred</th>\n",
       "      <th></th>\n",
       "      <th></th>\n",
       "    </tr>\n",
       "  </thead>\n",
       "  <tbody>\n",
       "    <tr>\n",
       "      <th>0</th>\n",
       "      <td>87</td>\n",
       "      <td>7</td>\n",
       "    </tr>\n",
       "    <tr>\n",
       "      <th>1</th>\n",
       "      <td>22</td>\n",
       "      <td>89</td>\n",
       "    </tr>\n",
       "  </tbody>\n",
       "</table>\n",
       "</div>"
      ],
      "text/plain": [
       "y_test   0   1\n",
       "y_pred        \n",
       "0       87   7\n",
       "1       22  89"
      ]
     },
     "execution_count": 39,
     "metadata": {},
     "output_type": "execute_result"
    }
   ],
   "source": [
    "pd.crosstab(pred_results.y_pred, pred_results.y_test) # see what was classified accurately"
   ]
  },
  {
   "cell_type": "code",
   "execution_count": null,
   "id": "aed48802-8564-4994-a2a8-eb95acc7dde2",
   "metadata": {},
   "outputs": [],
   "source": []
  }
 ],
 "metadata": {
  "kernelspec": {
   "display_name": "Python 3 (ipykernel)",
   "language": "python",
   "name": "python3"
  },
  "language_info": {
   "codemirror_mode": {
    "name": "ipython",
    "version": 3
   },
   "file_extension": ".py",
   "mimetype": "text/x-python",
   "name": "python",
   "nbconvert_exporter": "python",
   "pygments_lexer": "ipython3",
   "version": "3.11.1"
  }
 },
 "nbformat": 4,
 "nbformat_minor": 5
}
