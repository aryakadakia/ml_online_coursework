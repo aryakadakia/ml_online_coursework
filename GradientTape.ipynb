{
 "cells": [
  {
   "cell_type": "code",
   "execution_count": 1,
   "id": "8a721715",
   "metadata": {},
   "outputs": [
    {
     "name": "stderr",
     "output_type": "stream",
     "text": [
      "2023-01-27 15:21:25.241660: I tensorflow/core/platform/cpu_feature_guard.cc:193] This TensorFlow binary is optimized with oneAPI Deep Neural Network Library (oneDNN) to use the following CPU instructions in performance-critical operations:  AVX2 FMA\n",
      "To enable them in other operations, rebuild TensorFlow with the appropriate compiler flags.\n"
     ]
    }
   ],
   "source": [
    "import numpy as np\n",
    "import matplotlib.pyplot as plt\n",
    "import tensorflow as tf"
   ]
  },
  {
   "cell_type": "code",
   "execution_count": 2,
   "id": "d4897de7",
   "metadata": {},
   "outputs": [
    {
     "name": "stderr",
     "output_type": "stream",
     "text": [
      "2023-01-27 15:22:19.737535: I tensorflow/core/platform/cpu_feature_guard.cc:193] This TensorFlow binary is optimized with oneAPI Deep Neural Network Library (oneDNN) to use the following CPU instructions in performance-critical operations:  AVX2 FMA\n",
      "To enable them in other operations, rebuild TensorFlow with the appropriate compiler flags.\n"
     ]
    }
   ],
   "source": [
    "x = tf.Variable(4.0)\n",
    "with tf.GradientTape() as tape:\n",
    "    y = x**2  # forward pass"
   ]
  },
  {
   "cell_type": "code",
   "execution_count": 3,
   "id": "2c407634",
   "metadata": {},
   "outputs": [
    {
     "data": {
      "text/plain": [
       "<tf.Tensor: shape=(), dtype=float32, numpy=16.0>"
      ]
     },
     "execution_count": 3,
     "metadata": {},
     "output_type": "execute_result"
    }
   ],
   "source": [
    "y"
   ]
  },
  {
   "cell_type": "code",
   "execution_count": 4,
   "id": "234afe4f",
   "metadata": {},
   "outputs": [
    {
     "data": {
      "text/plain": [
       "<tf.Tensor: shape=(), dtype=float32, numpy=8.0>"
      ]
     },
     "execution_count": 4,
     "metadata": {},
     "output_type": "execute_result"
    }
   ],
   "source": [
    "# calculates gradient of y with respect to x (the derivative)\n",
    "dy_dx = tape.gradient(y, x) \n",
    "dy_dx\n"
   ]
  },
  {
   "cell_type": "code",
   "execution_count": 5,
   "id": "080e02e7",
   "metadata": {},
   "outputs": [
    {
     "data": {
      "text/plain": [
       "<tf.Variable 'Variable:0' shape=(4, 2) dtype=float32, numpy=\n",
       "array([[ 0.62292063, -0.07569999],\n",
       "       [-0.6804897 , -0.28200847],\n",
       "       [-0.5111931 , -1.1992348 ],\n",
       "       [ 1.1343832 , -0.5215308 ]], dtype=float32)>"
      ]
     },
     "execution_count": 5,
     "metadata": {},
     "output_type": "execute_result"
    }
   ],
   "source": [
    "# gradients can be calculated for scalars but also for tensors\n",
    "w = tf.Variable(tf.random.normal((4, 2))) # random 4x2 tensor\n",
    "w"
   ]
  },
  {
   "cell_type": "code",
   "execution_count": 6,
   "id": "55461850",
   "metadata": {},
   "outputs": [
    {
     "data": {
      "text/plain": [
       "<tf.Variable 'Variable:0' shape=(2,) dtype=float32, numpy=array([1., 1.], dtype=float32)>"
      ]
     },
     "execution_count": 6,
     "metadata": {},
     "output_type": "execute_result"
    }
   ],
   "source": [
    "b = tf.Variable(tf.ones(2, dtype=tf.float32))\n",
    "b # one dimensional tensor of ones"
   ]
  },
  {
   "cell_type": "code",
   "execution_count": 7,
   "id": "f3b1557c",
   "metadata": {},
   "outputs": [
    {
     "data": {
      "text/plain": [
       "<tf.Variable 'Variable:0' shape=(1, 4) dtype=float32, numpy=array([[10., 20., 30., 40.]], dtype=float32)>"
      ]
     },
     "execution_count": 7,
     "metadata": {},
     "output_type": "execute_result"
    }
   ],
   "source": [
    "x = tf.Variable([[10., 20., 30., 40.]], dtype=tf.float32)\n",
    "x"
   ]
  },
  {
   "cell_type": "code",
   "execution_count": 8,
   "id": "09efea39",
   "metadata": {},
   "outputs": [],
   "source": [
    "# GradientTape are released as soon as tape.gradient() is called\n",
    "# Once invoked, cannot be invoked again for the same computation\n",
    "# To invoke multiple times, need persistent = True\n",
    "with tf.GradientTape(persistent=True) as tape:\n",
    "    y = tf.matmul(x, w) + b\n",
    "    loss = tf.reduce_mean(y**2)"
   ]
  },
  {
   "cell_type": "code",
   "execution_count": 9,
   "id": "6e8e84c4",
   "metadata": {},
   "outputs": [
    {
     "data": {
      "text/plain": [
       "<tf.Tensor: shape=(4, 2), dtype=float32, numpy=\n",
       "array([[  236.58948,  -622.3545 ],\n",
       "       [  473.17896, -1244.709  ],\n",
       "       [  709.76843, -1867.0634 ],\n",
       "       [  946.3579 , -2489.418  ]], dtype=float32)>"
      ]
     },
     "execution_count": 9,
     "metadata": {},
     "output_type": "execute_result"
    }
   ],
   "source": [
    "[dl_dw, dl_db] = tape.gradient(loss, [w, b])\n",
    "dl_dw # shape is ame as shape of w vector"
   ]
  },
  {
   "cell_type": "code",
   "execution_count": 10,
   "id": "e64b4449",
   "metadata": {},
   "outputs": [
    {
     "data": {
      "text/plain": [
       "<tf.Tensor: shape=(2,), dtype=float32, numpy=array([ 23.658947, -62.235447], dtype=float32)>"
      ]
     },
     "execution_count": 10,
     "metadata": {},
     "output_type": "execute_result"
    }
   ],
   "source": [
    "dl_db #shape is same as shape of the b vector"
   ]
  },
  {
   "cell_type": "code",
   "execution_count": 11,
   "id": "876a45f3",
   "metadata": {},
   "outputs": [],
   "source": [
    "#keras layers to build neural network model\n",
    "# gradient tape records all operations made in the forward pass\n",
    "layer = tf.keras.layers.Dense(2, activation='relu')\n",
    "x = tf.constant([[10., 20., 30.]])"
   ]
  },
  {
   "cell_type": "code",
   "execution_count": 12,
   "id": "e70b4b48",
   "metadata": {},
   "outputs": [],
   "source": [
    "with tf.GradientTape() as tape:\n",
    "    y = layer(x)\n",
    "    loss = tf.reduce_sum(y**2)\n",
    "    \n",
    "grad = tape.gradient(loss, layer.trainable_variables)"
   ]
  },
  {
   "cell_type": "code",
   "execution_count": 13,
   "id": "04d6b544",
   "metadata": {},
   "outputs": [
    {
     "data": {
      "text/plain": [
       "[<tf.Tensor: shape=(3, 2), dtype=float32, numpy=\n",
       " array([[0., 0.],\n",
       "        [0., 0.],\n",
       "        [0., 0.]], dtype=float32)>,\n",
       " <tf.Tensor: shape=(2,), dtype=float32, numpy=array([0., 0.], dtype=float32)>]"
      ]
     },
     "execution_count": 13,
     "metadata": {},
     "output_type": "execute_result"
    }
   ],
   "source": [
    "grad #calculated with respect to all weights and biases"
   ]
  },
  {
   "cell_type": "code",
   "execution_count": 14,
   "id": "60f22590",
   "metadata": {},
   "outputs": [
    {
     "data": {
      "text/plain": [
       "<tf.Variable 'Variable:0' shape=() dtype=float32, numpy=5.0>"
      ]
     },
     "execution_count": 14,
     "metadata": {},
     "output_type": "execute_result"
    }
   ],
   "source": [
    "x1 = tf.Variable(5.0) #trainable variable\n",
    "x1"
   ]
  },
  {
   "cell_type": "code",
   "execution_count": 15,
   "id": "a3012702",
   "metadata": {},
   "outputs": [
    {
     "data": {
      "text/plain": [
       "<tf.Variable 'Variable:0' shape=() dtype=float32, numpy=5.0>"
      ]
     },
     "execution_count": 15,
     "metadata": {},
     "output_type": "execute_result"
    }
   ],
   "source": [
    "x2 = tf.Variable(5.0, trainable=False) # not trainable\n",
    "x2"
   ]
  },
  {
   "cell_type": "code",
   "execution_count": 16,
   "id": "a689f2f5",
   "metadata": {},
   "outputs": [
    {
     "data": {
      "text/plain": [
       "<tf.Tensor: shape=(), dtype=float32, numpy=10.0>"
      ]
     },
     "execution_count": 16,
     "metadata": {},
     "output_type": "execute_result"
    }
   ],
   "source": [
    "x3 = tf.add(x1, x2)\n",
    "x3"
   ]
  },
  {
   "cell_type": "code",
   "execution_count": 17,
   "id": "e4b1c9f6",
   "metadata": {},
   "outputs": [
    {
     "data": {
      "text/plain": [
       "<tf.Tensor: shape=(), dtype=float32, numpy=5.0>"
      ]
     },
     "execution_count": 17,
     "metadata": {},
     "output_type": "execute_result"
    }
   ],
   "source": [
    "x4 = tf.constant(5.0)\n",
    "x4"
   ]
  },
  {
   "cell_type": "code",
   "execution_count": 18,
   "id": "6138b6c3",
   "metadata": {},
   "outputs": [
    {
     "data": {
      "text/plain": [
       "[<tf.Tensor: shape=(), dtype=float32, numpy=10.0>, None, None, None]"
      ]
     },
     "execution_count": 18,
     "metadata": {},
     "output_type": "execute_result"
    }
   ],
   "source": [
    "with tf.GradientTape() as tape:\n",
    "    y = (x1**2) + (x2**2) + (x3**2) + (x4**2)\n",
    "grad = tape.gradient(y, [x1, x2, x3, x4])\n",
    "grad\n",
    "# only values for x1 shows up, the gradients for the rest are None"
   ]
  },
  {
   "cell_type": "code",
   "execution_count": 19,
   "id": "5aceafef",
   "metadata": {},
   "outputs": [],
   "source": [
    "# can explicitly configure to calculate gradients for certain tensors\n",
    "x1 = tf.constant(5.0)\n",
    "x2 = tf.Variable(3.0)"
   ]
  },
  {
   "cell_type": "code",
   "execution_count": 20,
   "id": "2439677b",
   "metadata": {},
   "outputs": [],
   "source": [
    "with tf.GradientTape() as tape:\n",
    "    tape.watch(x1) #explicitly choose what values to track in computation\n",
    "    y = (x1**2) + (x2**2)"
   ]
  },
  {
   "cell_type": "code",
   "execution_count": 21,
   "id": "6f3204e9",
   "metadata": {},
   "outputs": [
    {
     "data": {
      "text/plain": [
       "(<tf.Tensor: shape=(), dtype=float32, numpy=10.0>,\n",
       " <tf.Tensor: shape=(), dtype=float32, numpy=6.0>)"
      ]
     },
     "execution_count": 21,
     "metadata": {},
     "output_type": "execute_result"
    }
   ],
   "source": [
    "[dy_dx1, dy_dx2] = tape.gradient(y, [x1, x2])\n",
    "dy_dx1, dy_dx2"
   ]
  },
  {
   "cell_type": "code",
   "execution_count": 23,
   "id": "4c18c74c",
   "metadata": {},
   "outputs": [],
   "source": [
    "# gradient tape automatically tracks all variables\n",
    "# can turn off to explicitly choose what it watches\n",
    "with tf.GradientTape(watch_accessed_variables=False) as tape:\n",
    "    tape.watch(x1)\n",
    "    y = (x1**2) + (x2**2)"
   ]
  },
  {
   "cell_type": "code",
   "execution_count": 24,
   "id": "08e75d3d",
   "metadata": {},
   "outputs": [
    {
     "data": {
      "text/plain": [
       "(<tf.Tensor: shape=(), dtype=float32, numpy=10.0>, None)"
      ]
     },
     "execution_count": 24,
     "metadata": {},
     "output_type": "execute_result"
    }
   ],
   "source": [
    "[dy_dx1, dy_dx2] = tape.gradient(y, [x1, x2])\n",
    "dy_dx1, dy_dx2\n",
    "# x2 is none now"
   ]
  },
  {
   "cell_type": "code",
   "execution_count": 26,
   "id": "669eb503",
   "metadata": {},
   "outputs": [],
   "source": [
    "x = tf.constant(1.0)\n",
    "x1 = tf.Variable(5.0)\n",
    "x2 = tf.Variable(3.0)"
   ]
  },
  {
   "cell_type": "code",
   "execution_count": 28,
   "id": "455a7102",
   "metadata": {},
   "outputs": [
    {
     "data": {
      "text/plain": [
       "(<tf.Tensor: shape=(), dtype=float32, numpy=10.0>, None)"
      ]
     },
     "execution_count": 28,
     "metadata": {},
     "output_type": "execute_result"
    }
   ],
   "source": [
    "with tf.GradientTape(persistent=True) as tape:\n",
    "    tape.watch(x)\n",
    "    if x > 0.0:\n",
    "        result = x1**2\n",
    "    else:\n",
    "        result = x2**2\n",
    "dx1, dx2 = tape.gradient(result, [x1, x2])\n",
    "dx1, dx2\n",
    "# get gradient with respect to x1 (10 = 5x2)\n",
    "# if x = -1 (< 0), would get gradient with respect to x2 (3x2)"
   ]
  },
  {
   "cell_type": "code",
   "execution_count": 29,
   "id": "01671903",
   "metadata": {},
   "outputs": [
    {
     "name": "stdout",
     "output_type": "stream",
     "text": [
      "None\n"
     ]
    }
   ],
   "source": [
    "x = tf.Variable(2.)\n",
    "y = tf.Variable(3.)\n",
    "with tf.GradientTape() as tape:\n",
    "    z = y * y\n",
    "    dy_dx = tape.gradient(z, x)\n",
    "print(dy_dx)\n",
    "# will get None if gradient is computed using something else"
   ]
  },
  {
   "cell_type": "code",
   "execution_count": null,
   "id": "4c5a8f86",
   "metadata": {},
   "outputs": [],
   "source": []
  }
 ],
 "metadata": {
  "kernelspec": {
   "display_name": "Python 3 (ipykernel)",
   "language": "python",
   "name": "python3"
  },
  "language_info": {
   "codemirror_mode": {
    "name": "ipython",
    "version": 3
   },
   "file_extension": ".py",
   "mimetype": "text/x-python",
   "name": "python",
   "nbconvert_exporter": "python",
   "pygments_lexer": "ipython3",
   "version": "3.7.7"
  }
 },
 "nbformat": 4,
 "nbformat_minor": 5
}
